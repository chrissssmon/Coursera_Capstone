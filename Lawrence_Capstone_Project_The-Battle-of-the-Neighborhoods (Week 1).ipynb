{
 "cells": [
  {
   "cell_type": "markdown",
   "metadata": {},
   "source": [
    "# Capstone Project - The Battle of the Neighborhoods (Week 1)\n",
    "### Applied Data Science Capstone by IBM/Coursera\n",
    "### Christopher Lawrence"
   ]
  },
  {
   "cell_type": "markdown",
   "metadata": {},
   "source": [
    "***"
   ]
  },
  {
   "cell_type": "markdown",
   "metadata": {},
   "source": [
    "<img src=\"coffee-798315_1280.png\" width=\"100\" height=\"50\">"
   ]
  },
  {
   "cell_type": "markdown",
   "metadata": {},
   "source": [
    "## Overview\n",
    "\n"
   ]
  },
  {
   "cell_type": "markdown",
   "metadata": {},
   "source": [
    "For the Capstone project, I chose a scenario in which a large, national coffee chain is searching for new locations in which to open new coffee shops.  For the area, I chose to explore the region in which I currently live, Anne Arundel County Maryland.  This region is located in the suburbs between Baltimore Maryland and Washington D.C.  This area has a large metropolitan population with many coffee shops throughout the area.  I will use the Foursquare data API to establish the current coffee shop environment in Anne Arundel County in conjunction with other data sets from the Maryland and Anne Arundel Maryland County open data set web portals.  "
   ]
  },
  {
   "cell_type": "markdown",
   "metadata": {},
   "source": [
    "  "
   ]
  },
  {
   "cell_type": "markdown",
   "metadata": {},
   "source": [
    "## Table of contents\n",
    "* [Introduction: Business Problem](#introduction)\n",
    "* [Data](#data)\n"
   ]
  },
  {
   "cell_type": "markdown",
   "metadata": {},
   "source": [
    "***"
   ]
  },
  {
   "cell_type": "markdown",
   "metadata": {},
   "source": [
    "## Introduction and Background: Business Problem <a name=\"introduction\"></a>"
   ]
  },
  {
   "cell_type": "markdown",
   "metadata": {},
   "source": [
    "This section will present a brief description of the problem/question to be explored and a discussion of the background of the scenario presented in this Capstone.\n",
    "\n",
    "As stated in the overview section, this Capstone will present the problem of searching for an 'ideal' location to expand a new coffee shop store somewhere in the county of Anne Arundel Maryland.  Anne Arundel Maryland is a large, suburban county in the state of Maryland located between the cities of Baltimore Maryland and Washington D.C.  The problem/scenario presented in this Capstone will center around defining the properties of an 'ideal' location given the Foursquare API dataset information for existing coffee shops throughout the Anne Arundel county area.  \n",
    "\n",
    "After exploring the various attributes of the existing coffee shop data in the Foursquare database (in conjunction with a systematic partitioning of Anne Arundel county via county open data sets (discussed in the data section), the business problem of where to locate a new coffee shop will become further defined.  In this scenario, the company wishes to expand its current number of coffee shops in the Anne Arundel county area, but also wants to maximize its business opportunities by avoiding areas of the county that are saturated in existing coffee shops and other establishments that cut into the coffee shop business.\n",
    "\n",
    "<img src=\"aa_county_map.PNG\" width=\"500\" height=\"400\">"
   ]
  },
  {
   "cell_type": "markdown",
   "metadata": {},
   "source": [
    "***"
   ]
  },
  {
   "cell_type": "markdown",
   "metadata": {},
   "source": [
    "## Data <a name=\"data\"></a>"
   ]
  },
  {
   "cell_type": "markdown",
   "metadata": {},
   "source": [
    "This section will provide a description of the data, the data sources, and how it will be used to solve the problem presented in this Capstone project.\n",
    "\n",
    "This project will utilize the Foursquare API database to obtain data on all the existing coffee shops in Anne Arundel County Maryland.  To further explore this data, the coffee shop location information will be partitioned in the Anne Arundel County area by using locational data from the Anne Arundel County and Maryland State open data web portals.  This will create a picture of the current coffee shop 'landscape' which will help to avoid areas that are congested with existing competitive shops.  An examination of the Foursquare data on existing coffee shops may illuminate further attributes or areas of investigation that would enhance the decision making process of where to locate a new coffee shop in the county.\n",
    " \n",
    "  \n",
    "\n",
    "<img src=\"md_opendata.PNG\" width=\"500\" height=\"400\">\n",
    "\n",
    "***\n",
    "\n",
    "<img src=\"aa_county_opendata.PNG\" width=\"500\" height=\"400\">\n",
    "\n",
    "***\n",
    "\n",
    "<img src=\"foursquare_image.PNG\" width=\"500\" height=\"400\">\n",
    "\n",
    "***\n",
    "\n",
    "## Data Sources:\n",
    "* https://opendata.aacounty.org/ \n",
    "\n",
    "* https://planning.maryland.gov/MSDC/Pages/Cnty_Menu/Anne.aspx\n",
    "\n",
    "* https://www.aacounty.org/\n",
    "\n",
    "* https://developer.foursquare.com/\n",
    "\n"
   ]
  }
 ],
 "metadata": {
  "kernelspec": {
   "display_name": "Python 3",
   "language": "python",
   "name": "python3"
  },
  "language_info": {
   "codemirror_mode": {
    "name": "ipython",
    "version": 3
   },
   "file_extension": ".py",
   "mimetype": "text/x-python",
   "name": "python",
   "nbconvert_exporter": "python",
   "pygments_lexer": "ipython3",
   "version": "3.7.1"
  }
 },
 "nbformat": 4,
 "nbformat_minor": 2
}
